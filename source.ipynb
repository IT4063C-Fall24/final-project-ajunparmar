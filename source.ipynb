{
 "cells": [
  {
   "attachments": {},
   "cell_type": "markdown",
   "metadata": {},
   "source": [
    "# {Project Title}📝\n",
    "Demograpphic Changes in US Towns and Cities\n",
    "![Banner](./assets/banner.jpeg)"
   ]
  },
  {
   "attachments": {},
   "cell_type": "markdown",
   "metadata": {},
   "source": [
    "## Topic\n",
    "*What problem are you (or your stakeholder) trying to address?*\n",
    "📝 <!-- Answer Below -->\n",
    " My topic is investigating the demographic changes of the United States for the past couple of  years to see how various demographics have changed in the U.S. towns and cities. Demographics such as race, gender, income etc"
   ]
  },
  {
   "attachments": {},
   "cell_type": "markdown",
   "metadata": {},
   "source": [
    "## Project Question\n",
    "*What specific question are you seeking to answer with this project?*\n",
    "*This is not the same as the questions you ask to limit the scope of the project.*\n",
    "📝 <!-- Answer Below -->\n",
    "The questions that I want to ask are basically the why of every demographic whether a specific group is increasing or decreasing. I want to find out why specific demographics are decreasing or increasing and whether they are too immigration, new industries and various other factors that could be considered.\n"
   ]
  },
  {
   "attachments": {},
   "cell_type": "markdown",
   "metadata": {},
   "source": [
    "## What would an answer look like?\n",
    "*What is your hypothesized answer to your question?*\n",
    "📝 <!-- Answer Below -->\n",
    "The answer could be given in many different types of graphs. Graphs like line graphs would work best with race or gender demographics and could be best displayed."
   ]
  },
  {
   "attachments": {},
   "cell_type": "markdown",
   "metadata": {},
   "source": [
    "## Data Sources\n",
    "*What 3 data sources have you identified for this project?*\n",
    "*How are you going to relate these datasets?*\n",
    "📝 <!-- Answer Below -->\n",
    "https://www.kaggle.com/datasets/muonneutrino/us-census-demographic-data\n",
    "There are 4 data sources 2 each that are from 2015 and 2017 respectivly that looks at all type of demographic data."
   ]
  },
  {
   "attachments": {},
   "cell_type": "markdown",
   "metadata": {},
   "source": [
    "## Approach and Analysis\n",
    "*What is your approach to answering your project question?*\n",
    "*How will you use the identified data to answer your project question?*\n",
    "📝 <!-- Start Discussing the project here; you can add as many code cells as you need -->"
   ]
  },
  {
   "cell_type": "code",
   "execution_count": null,
   "metadata": {},
   "outputs": [],
   "source": [
    "# Start your code here\n",
    "#The answer could be given in many different types of graphs. Graphs like line or bar graphs would work best with race or gender demographics and could be best displayed.I would be using the random function"
   ]
  },
  {
   "attachments": {},
   "cell_type": "markdown",
   "metadata": {},
   "source": [
    "## Resources and References\n",
    "*What resources and references have you used for this project?*\n",
    "📝 <!-- Answer Below -->"
   ]
  },
  {
   "cell_type": "code",
   "execution_count": null,
   "metadata": {},
   "outputs": [
    {
     "name": "stdout",
     "output_type": "stream",
     "text": [
      "[NbConvertApp] Converting notebook source.ipynb to python\n",
      "[NbConvertApp] Writing 1271 bytes to source.py\n"
     ]
    }
   ],
   "source": [
    "# ⚠️ Make sure you run this cell at the end of your notebook before every submission!\n",
    "#I will be using different resources from government agencies that will be giving analysis for demographic changes.\n",
    "!jupyter nbconvert --to python source.ipynb"
   ]
  },
  {
   "cell_type": "code",
   "execution_count": null,
   "metadata": {},
   "outputs": [
    {
     "name": "stdout",
     "output_type": "stream",
     "text": [
      "[NbConvertApp] Converting notebook source.ipynb to python\n",
      "[NbConvertApp] Writing 1271 bytes to source.py\n"
     ]
    }
   ],
   "source": [
    "#CheckPoint 2"
   ]
  },
  {
   "cell_type": "code",
   "execution_count": null,
   "metadata": {},
   "outputs": [
    {
     "name": "stdout",
     "output_type": "stream",
     "text": [
      "[NbConvertApp] Converting notebook source.ipynb to python\n",
      "[NbConvertApp] Writing 1271 bytes to source.py\n"
     ]
    }
   ],
   "source": [
    "\n",
    "#*What insights and interesting information are you able to extract at this stage?*\n",
    "## 📝 <!-- Answer Below -->\n",
    "#Some interesting information I learned when looking at the Census Data is that since the start of the 21st century, more conservative states have had there population increased like Texas and Florida. \n",
    "## *What are the distributions of my variables?*\n",
    "## 📝 <!-- Answer Below -->\n",
    "#There are many different variables like population, race, gender, gdp per capita, median income and etc. \n",
    "## *Are there any correlations between my variables?*\n",
    "## 📝 <!-- Answer Below -->\n",
    "#There are not a lot of correlations between variables because each variable is describing something different about the population.\n",
    "## *What issues can you see in your data at this point?*\n",
    "## 📝 <!-- Answer Below -->\n",
    "#Not really any issues that I can see due to the data being from the government.\n",
    "## *Are there any outliers or anomalies? are they relevant to your analysis? or should they be removed?*\n",
    "# 📝 <!-- Answer Below -->\n",
    "#No Outliers\n",
    "## *Are there any missing values? how are you going to deal with them? Are there any duplicate values? how are you going to deal with them?*\n",
    "## 📝 <!-- Answer Below -->\n",
    "#I have not seen any missing values but will research if I see any.\n",
    "## *Are there any data types that need to be changed?*\n",
    "## 📝 <!-- Answer Below -->\n",
    "#There are not any data types that I would change.\n",
    "## ## Data Visualization\n",
    "!jupyter nbconvert --to python source.ipynb"
   ]
  }
 ],
 "metadata": {
  "kernelspec": {
   "display_name": "Final-Project-Template-unx06iZ2",
   "language": "python",
   "name": "python3"
  },
  "language_info": {
   "codemirror_mode": {
    "name": "ipython",
    "version": 3
   },
   "file_extension": ".py",
   "mimetype": "text/x-python",
   "name": "python",
   "nbconvert_exporter": "python",
   "pygments_lexer": "ipython3",
   "version": "3.11.1"
  },
  "orig_nbformat": 4,
  "vscode": {
   "interpreter": {
    "hash": "8f59090b806211711d8ea6da25ee5b1ccb272a75a21b9536283520350d8dfda7"
   }
  }
 },
 "nbformat": 4,
 "nbformat_minor": 2
}
